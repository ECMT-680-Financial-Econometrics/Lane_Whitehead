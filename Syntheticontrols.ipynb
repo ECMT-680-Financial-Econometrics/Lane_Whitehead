
#Importing the necessary libraries
import pandas as pd
import os
import matplotlib.pyplot as plt

# Get the absolute path of the current directory
current_dir = os.path.abspath(os.getcwd())

# Uploading Replication Data
file_path = os.path.join(current_dir, 'SCM_ba_combi.dta')
ba_combi_df = pd.read_stata(file_path)

file_path = os.path.join(current_dir, 'SCM_combi.dta')
scm_combi = pd.read_stata(file_path)

file_path = os.path.join(current_dir, 'SCM_1.dta')
scmr_42 = pd.read_stata(file_path)


# Display the first few rows of the DataFrame
pd.set_option('display.max_columns', None)
print(scmr_42.head())

# Creating a simulated date range for the illustration
scmr_42['simulated_date'] = pd.date_range(start='2020-01-01', periods=len(scmr_42), freq='D')

# Plotting the actual and synthetic bond spreads
plt.figure(figsize=(12, 6))
plt.plot(scmr_42['simulated_date'], scmr_42['_Y_treated'], label='Actual Bond Spreads', color='blue')
plt.plot(scmr_42['simulated_date'], scmr_42['_Y_synthetic'], label='Synthetic Bond Spreads', color='orange')

# Marking the DSSI announcement and activation dates
dssi_announcement_date = '2020-04-15'
dssi_activation_date = '2020-05-01'
plt.axvline(pd.Timestamp(dssi_announcement_date), color='red', linestyle='--', label='DSSI Announcement')
plt.axvline(pd.Timestamp(dssi_activation_date), color='green', linestyle='-', label='DSSI Activation')

plt.title('Simulated Bond Spreads Around DSSI Events')
plt.xlabel('Date')
plt.ylabel('Bond Spread')
plt.legend()

plt.tight_layout()
plt.show()
'''
from sklearn.linear_model import LassoCV
from sklearn.preprocessing import StandardScaler
import numpy as np

# Example treated country: Angola (AGO)
treated_country_id = 1.0  # Assuming 'id' corresponds to Angola based on the provided examples
treated_iso3 = "AGO"
actual_treated = ba_combi_df[ba_combi_df['placebo'] == 0]
# Define pre-treatment and post-treatment periods
# For simplicity, let's assume a generic pre-treatment period up to 2019 and post-treatment from 2020 onwards
pre_treatment_period = actual_treated['_time'] < '2020-01-01'
post_treatment_period = actual_treated['_time'] >= '2020-01-01'

# Select predictors - Here we use '_Y_treated' as the outcome variable and '_W_Weight' as a proxy for pre-treatment characteristics
predictors = ['_W_Weight']

# Create donor pool: Exclude treated country (Angola) from donor list
donor_pool = actual_treated[(actual_treated['iso3'] != treated_iso3) & pre_treatment_period]

# Prepare data for Lasso regression to find weights
X_donor = donor_pool[predictors].values
y_treated_pre = actual_treated[(actual_treated['id'] == treated_country_id) & pre_treatment_period]['_Y_treated'].values

# Standardize features
scaler = StandardScaler()
X_donor_scaled = scaler.fit_transform(X_donor)

# Use Lasso regression to determine weights, enforcing non-negativity to simulate synthetic control weights
lasso = LassoCV(positive=True, cv=5).fit(X_donor_scaled, y_treated_pre)

# Weights assigned to each donor country
weights = lasso.coef_

# Display weights
weights_nonzero = weights[weights != 0]
donor_countries_selected = donor_pool[weights != 0]['iso3'].unique()

weights_nonzero, donor_countries_selected

'''